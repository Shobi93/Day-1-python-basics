{
 "cells": [
  {
   "cell_type": "code",
   "execution_count": 1,
   "id": "54e17a09",
   "metadata": {},
   "outputs": [
    {
     "name": "stdout",
     "output_type": "stream",
     "text": [
      "Shobi V S\n"
     ]
    }
   ],
   "source": [
    "#concatenation\n",
    "a=\"Shobi\"\n",
    "b=\"V S\"\n",
    "print(a+\" \"+b)"
   ]
  },
  {
   "cell_type": "code",
   "execution_count": 2,
   "id": "74dab6d6",
   "metadata": {},
   "outputs": [
    {
     "name": "stdout",
     "output_type": "stream",
     "text": [
      "My name is Shobi and am 29 years old\n"
     ]
    }
   ],
   "source": [
    "#format\n",
    "age=29\n",
    "txt=\"My name is Shobi and am {} years old\"\n",
    "print(txt.format(age))"
   ]
  },
  {
   "cell_type": "code",
   "execution_count": 3,
   "id": "79d3b70f",
   "metadata": {},
   "outputs": [
    {
     "name": "stdout",
     "output_type": "stream",
     "text": [
      "Hello\n",
      "World\n"
     ]
    }
   ],
   "source": [
    "#escape character\n",
    "txt=\"Hello\\nWorld\"\n",
    "print(txt)"
   ]
  },
  {
   "cell_type": "code",
   "execution_count": 4,
   "id": "866768bf",
   "metadata": {},
   "outputs": [
    {
     "name": "stdout",
     "output_type": "stream",
     "text": [
      "False\n",
      "False\n",
      "True\n"
     ]
    }
   ],
   "source": [
    "#Boolean\n",
    "print(10>45)\n",
    "print(3<-9)\n",
    "print(2>0)"
   ]
  },
  {
   "cell_type": "markdown",
   "id": "fe2d17dc",
   "metadata": {},
   "source": [
    "# Collection of Data Types\n",
    " \n",
    " ## List- ordered, changable, allows duplicate\n",
    " ## Tuple- ordered, unchangable , allows duplicate\n",
    " ## Set - unordered, unchangable,un indexed, won't allow duplicate\n",
    " ## Dictionary- ordered, changable, won't allow duplicate\n",
    " "
   ]
  },
  {
   "cell_type": "code",
   "execution_count": 5,
   "id": "b1c1a5af",
   "metadata": {},
   "outputs": [
    {
     "name": "stdout",
     "output_type": "stream",
     "text": [
      "[8, 4, 6]\n"
     ]
    }
   ],
   "source": [
    "# nested List\n",
    "X=[\"mouse\",[8,4,6], [\"a\"]]\n",
    "print(X[1])   #index"
   ]
  },
  {
   "cell_type": "code",
   "execution_count": 6,
   "id": "97f869d0",
   "metadata": {},
   "outputs": [
    {
     "name": "stdout",
     "output_type": "stream",
     "text": [
      "3\n"
     ]
    }
   ],
   "source": [
    "print(len(X))"
   ]
  },
  {
   "cell_type": "code",
   "execution_count": 7,
   "id": "d6620e05",
   "metadata": {},
   "outputs": [
    {
     "name": "stdout",
     "output_type": "stream",
     "text": [
      "<class 'list'>\n"
     ]
    }
   ],
   "source": [
    "print(type(X))"
   ]
  },
  {
   "cell_type": "code",
   "execution_count": 8,
   "id": "13b1af3f",
   "metadata": {},
   "outputs": [
    {
     "name": "stdout",
     "output_type": "stream",
     "text": [
      "['mouse', [8, 4, 6], ['a']]\n"
     ]
    }
   ],
   "source": [
    "print(X[0:3])"
   ]
  },
  {
   "cell_type": "code",
   "execution_count": 9,
   "id": "41847d7b",
   "metadata": {},
   "outputs": [],
   "source": [
    "X[1]=[1,2,3,4]   #List is a changable"
   ]
  },
  {
   "cell_type": "code",
   "execution_count": 10,
   "id": "d2bd8a33",
   "metadata": {},
   "outputs": [
    {
     "name": "stdout",
     "output_type": "stream",
     "text": [
      "['mouse', [1, 2, 3, 4], ['a']]\n"
     ]
    }
   ],
   "source": [
    "print(X)"
   ]
  },
  {
   "cell_type": "code",
   "execution_count": 15,
   "id": "6df70f4c",
   "metadata": {},
   "outputs": [
    {
     "name": "stdout",
     "output_type": "stream",
     "text": [
      "Hello shobi morning\n"
     ]
    }
   ],
   "source": [
    "#function\n",
    "def text(name,message):\n",
    "    print(\"Hello\",name+ \" \"+message)\n",
    "\n",
    "text(\"shobi\",\"morning\")"
   ]
  },
  {
   "cell_type": "code",
   "execution_count": 16,
   "id": "36a14585",
   "metadata": {},
   "outputs": [
    {
     "name": "stdout",
     "output_type": "stream",
     "text": [
      "20\n"
     ]
    }
   ],
   "source": [
    "#lambda function\n",
    "double=lambda x:x*2    #Anonymous function, i.e., function without a name, can take any number of arguments but can have only one expression\n",
    "print(double(10))"
   ]
  },
  {
   "cell_type": "code",
   "execution_count": 26,
   "id": "d65555b9",
   "metadata": {},
   "outputs": [
    {
     "name": "stdout",
     "output_type": "stream",
     "text": [
      "(37, 456, 5248, 56438, 27, 9, 7, 56)\n"
     ]
    }
   ],
   "source": [
    "new=(34,453,5245,56435,24,6,4,53)\n",
    "t=tuple (map( lambda x:x+3,new))\n",
    "print(t)"
   ]
  },
  {
   "cell_type": "code",
   "execution_count": 18,
   "id": "963997f1",
   "metadata": {},
   "outputs": [
    {
     "name": "stdout",
     "output_type": "stream",
     "text": [
      "1\n",
      "2\n",
      "3\n",
      "4\n",
      "5\n",
      "6\n",
      "7\n",
      "8\n"
     ]
    }
   ],
   "source": [
    "y=1,2,3,4,5,6,7,8\n",
    "counter=0\n",
    "for i in y:\n",
    "    counter +=1\n",
    "    print(i)"
   ]
  },
  {
   "cell_type": "code",
   "execution_count": null,
   "id": "e5eece18",
   "metadata": {},
   "outputs": [],
   "source": []
  }
 ],
 "metadata": {
  "kernelspec": {
   "display_name": "Python 3 (ipykernel)",
   "language": "python",
   "name": "python3"
  },
  "language_info": {
   "codemirror_mode": {
    "name": "ipython",
    "version": 3
   },
   "file_extension": ".py",
   "mimetype": "text/x-python",
   "name": "python",
   "nbconvert_exporter": "python",
   "pygments_lexer": "ipython3",
   "version": "3.10.4"
  }
 },
 "nbformat": 4,
 "nbformat_minor": 5
}
